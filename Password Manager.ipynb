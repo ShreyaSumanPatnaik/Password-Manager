{
 "cells": [
  {
   "cell_type": "markdown",
   "id": "5c4059e3",
   "metadata": {},
   "source": [
    "# Load the Required Libraries"
   ]
  },
  {
   "cell_type": "code",
   "execution_count": 1,
   "id": "e79828b7",
   "metadata": {},
   "outputs": [],
   "source": [
    "from cryptography.fernet import Fernet\n",
    "import sqlite3\n",
    "import os"
   ]
  },
  {
   "cell_type": "markdown",
   "id": "76764b6c",
   "metadata": {},
   "source": [
    "# Set Up the Encryption Functions"
   ]
  },
  {
   "cell_type": "code",
   "execution_count": 2,
   "id": "b9a605f4",
   "metadata": {},
   "outputs": [],
   "source": [
    "# Generate a key for encryption/decryption\n",
    "def generate_key():\n",
    "    key = Fernet.generate_key()\n",
    "    with open(\"secret.key\", \"wb\") as key_file:\n",
    "        key_file.write(key)\n",
    "\n",
    "# Load the previously generated key\n",
    "def load_key():\n",
    "    return open(\"secret.key\", \"rb\").read()\n",
    "\n",
    "# Encrypt the password\n",
    "def encrypt_password(password, key):\n",
    "    cipher_suite = Fernet(key)\n",
    "    encrypted_password = cipher_suite.encrypt(password.encode())\n",
    "    return encrypted_password\n",
    "\n",
    "# Decrypt the password\n",
    "def decrypt_password(encrypted_password, key):\n",
    "    cipher_suite = Fernet(key)\n",
    "    decrypted_password = cipher_suite.decrypt(encrypted_password).decode()\n",
    "    return decrypted_password"
   ]
  },
  {
   "cell_type": "markdown",
   "id": "0e24c978",
   "metadata": {},
   "source": [
    "# Set Up the Database Functions"
   ]
  },
  {
   "cell_type": "code",
   "execution_count": 3,
   "id": "373d9ef5",
   "metadata": {},
   "outputs": [],
   "source": [
    "# Initialize the database\n",
    "def init_db():\n",
    "    conn = sqlite3.connect('passwords.db')\n",
    "    cursor = conn.cursor()\n",
    "    cursor.execute('''CREATE TABLE IF NOT EXISTS passwords\n",
    "                      (id INTEGER PRIMARY KEY, service TEXT, username TEXT, password BLOB)''')\n",
    "    conn.commit()\n",
    "    conn.close()\n",
    "\n",
    "# Add a new password entry\n",
    "def add_password(service, username, password, key):\n",
    "    encrypted_password = encrypt_password(password, key)\n",
    "    conn = sqlite3.connect('passwords.db')\n",
    "    cursor = conn.cursor()\n",
    "    cursor.execute(\"INSERT INTO passwords (service, username, password) VALUES (?, ?, ?)\",\n",
    "                   (service, username, encrypted_password))\n",
    "    conn.commit()\n",
    "    conn.close()\n",
    "\n",
    "# Retrieve a password\n",
    "def get_password(service, key):\n",
    "    conn = sqlite3.connect('passwords.db')\n",
    "    cursor = conn.cursor()\n",
    "    cursor.execute(\"SELECT username, password FROM passwords WHERE service = ?\", (service,))\n",
    "    result = cursor.fetchone()\n",
    "    conn.close()\n",
    "    if result:\n",
    "        username, encrypted_password = result\n",
    "        decrypted_password = decrypt_password(encrypted_password, key)\n",
    "        return username, decrypted_password\n",
    "    else:\n",
    "        return None"
   ]
  },
  {
   "cell_type": "markdown",
   "id": "1bc2f41d",
   "metadata": {},
   "source": [
    "# Interactive CLI in Jupyter"
   ]
  },
  {
   "cell_type": "code",
   "execution_count": 4,
   "id": "30370cb6",
   "metadata": {},
   "outputs": [],
   "source": [
    "# Ensure the encryption key is available\n",
    "if not os.path.exists(\"secret.key\"):\n",
    "    print(\"Generating a new encryption key...\")\n",
    "    generate_key()\n",
    "key = load_key()\n",
    "\n",
    "# Initialize the database\n",
    "init_db()\n",
    "\n",
    "def add_new_password(service, username, password):\n",
    "    add_password(service, username, password, key)\n",
    "    return \"Password added successfully!\"\n",
    "\n",
    "def retrieve_password(service):\n",
    "    result = get_password(service, key)\n",
    "    if result:\n",
    "        username, password = result\n",
    "        return f\"Service: {service}\\nUsername: {username}\\nPassword: {password}\"\n",
    "    else:\n",
    "        return \"Service not found!\""
   ]
  },
  {
   "cell_type": "markdown",
   "id": "ccbe8834",
   "metadata": {},
   "source": [
    "# Add and Retrieve Passwords"
   ]
  },
  {
   "cell_type": "code",
   "execution_count": 5,
   "id": "3deb1fec",
   "metadata": {},
   "outputs": [
    {
     "data": {
      "text/plain": [
       "'Password added successfully!'"
      ]
     },
     "execution_count": 5,
     "metadata": {},
     "output_type": "execute_result"
    }
   ],
   "source": [
    "add_new_password('example.com', 'user123', 'mypassword')"
   ]
  },
  {
   "cell_type": "code",
   "execution_count": 6,
   "id": "8202c30d",
   "metadata": {},
   "outputs": [
    {
     "data": {
      "text/plain": [
       "'Service: example.com\\nUsername: user123\\nPassword: mypassword'"
      ]
     },
     "execution_count": 6,
     "metadata": {},
     "output_type": "execute_result"
    }
   ],
   "source": [
    "retrieve_password('example.com')"
   ]
  },
  {
   "cell_type": "code",
   "execution_count": 7,
   "id": "69f5fd5c",
   "metadata": {},
   "outputs": [
    {
     "data": {
      "text/plain": [
       "'Service not found!'"
      ]
     },
     "execution_count": 7,
     "metadata": {},
     "output_type": "execute_result"
    }
   ],
   "source": [
    "retrieve_password('nonexistent.com')"
   ]
  },
  {
   "cell_type": "code",
   "execution_count": null,
   "id": "494eae8d",
   "metadata": {},
   "outputs": [],
   "source": []
  }
 ],
 "metadata": {
  "kernelspec": {
   "display_name": "Python 3 (ipykernel)",
   "language": "python",
   "name": "python3"
  },
  "language_info": {
   "codemirror_mode": {
    "name": "ipython",
    "version": 3
   },
   "file_extension": ".py",
   "mimetype": "text/x-python",
   "name": "python",
   "nbconvert_exporter": "python",
   "pygments_lexer": "ipython3",
   "version": "3.9.13"
  }
 },
 "nbformat": 4,
 "nbformat_minor": 5
}
